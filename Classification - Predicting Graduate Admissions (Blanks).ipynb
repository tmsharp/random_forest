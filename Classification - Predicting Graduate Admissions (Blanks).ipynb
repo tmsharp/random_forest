{
 "cells": [
  {
   "cell_type": "markdown",
   "metadata": {},
   "source": [
    "# *Predicting Graduate Admissions using Random Forest*\n",
    "#### Authors: Tom Sharp "
   ]
  },
  {
   "cell_type": "markdown",
   "metadata": {},
   "source": [
    "\n",
    "## Agenda ##\n",
    "Part 1: Data Import, Exploration, and Cleaning <br>\n",
    "Part 2: Decision Tree - The Building Block of Random Forest <br>\n",
    "Part 3: Random Forest <br>\n",
    "Part 4: Over/Under Fitting <br>\n",
    "Part 5: Final Model Evaluation <br>\n",
    "Part 6: Predicting Admissions"
   ]
  },
  {
   "cell_type": "code",
   "execution_count": 1,
   "metadata": {},
   "outputs": [
    {
     "data": {
      "text/plain": [
       "'Data for this notebook was obtained at https://www.kaggle.com/malapatiravi/graduate-school-admission-data '"
      ]
     },
     "execution_count": 1,
     "metadata": {},
     "output_type": "execute_result"
    }
   ],
   "source": [
    "\"Data for this notebook was obtained at {} \".format('https://www.kaggle.com/malapatiravi/graduate-school-admission-data')"
   ]
  },
  {
   "cell_type": "markdown",
   "metadata": {},
   "source": [
    "\n",
    "## Part 0: Environment Setup"
   ]
  },
  {
   "cell_type": "code",
   "execution_count": 2,
   "metadata": {},
   "outputs": [],
   "source": [
    "# Import the os library, the pandas library (aliased as pd), the numpy library (aliased as np), \n",
    "# matplotlib.pyplot (aliased as plt), and pickle\n",
    "\n",
    "import os\n",
    "import pandas as pd\n",
    "import numpy as np\n",
    "import sklearn\n",
    "\n",
    "import matplotlib.pyplot as plt\n",
    "import pickle"
   ]
  },
  {
   "cell_type": "code",
   "execution_count": 3,
   "metadata": {},
   "outputs": [
    {
     "name": "stdout",
     "output_type": "stream",
     "text": [
      "C:\\Users\\tomsharp\\Desktop\\Firm Initiatives\\Demystifying_ML\\random_forest\n",
      "C:\\Users\\tomsharp\\Desktop\\Firm Initiatives\\Demystifying_ML\\random_forest\\data\\college_admissions.csv\n",
      "C:\\Users\\tomsharp\\Desktop\\Firm Initiatives\\Demystifying_ML\\random_forest\\images\n"
     ]
    }
   ],
   "source": [
    "# Store the paths to frequently used files\n",
    "\n",
    "parent_path = os.getcwd()\n",
    "data_path = os.path.join(parent_path,  'data', 'college_admissions.csv')\n",
    "image_path = os.path.join(parent_path, 'images')\n",
    "\n",
    "\n",
    "print(parent_path)\n",
    "print(data_path)\n",
    "print(image_path)"
   ]
  },
  {
   "cell_type": "markdown",
   "metadata": {},
   "source": [
    "## Part 1: Data Import, Exploration, and Cleaning"
   ]
  },
  {
   "cell_type": "markdown",
   "metadata": {},
   "source": [
    "During any analysis, it is always important to first examine your data. This involves looking at the data itself, the column names, and some summary statistics about the data."
   ]
  },
  {
   "cell_type": "code",
   "execution_count": 4,
   "metadata": {},
   "outputs": [],
   "source": [
    "# Read in the data using the pandas package. The data is stored in what is called a dataframe (similar to a spreadsheet)\n",
    "\n",
    "### (read in data) ###"
   ]
  },
  {
   "cell_type": "code",
   "execution_count": 5,
   "metadata": {},
   "outputs": [
    {
     "name": "stdout",
     "output_type": "stream",
     "text": [
      "num of rows, num of columns =  (400, 4)\n"
     ]
    },
    {
     "data": {
      "text/html": [
       "<div>\n",
       "<style scoped>\n",
       "    .dataframe tbody tr th:only-of-type {\n",
       "        vertical-align: middle;\n",
       "    }\n",
       "\n",
       "    .dataframe tbody tr th {\n",
       "        vertical-align: top;\n",
       "    }\n",
       "\n",
       "    .dataframe thead th {\n",
       "        text-align: right;\n",
       "    }\n",
       "</style>\n",
       "<table border=\"1\" class=\"dataframe\">\n",
       "  <thead>\n",
       "    <tr style=\"text-align: right;\">\n",
       "      <th></th>\n",
       "      <th>gre</th>\n",
       "      <th>gpa</th>\n",
       "      <th>rank</th>\n",
       "      <th>admit</th>\n",
       "    </tr>\n",
       "  </thead>\n",
       "  <tbody>\n",
       "    <tr>\n",
       "      <th>0</th>\n",
       "      <td>380</td>\n",
       "      <td>3.61</td>\n",
       "      <td>3</td>\n",
       "      <td>0</td>\n",
       "    </tr>\n",
       "    <tr>\n",
       "      <th>1</th>\n",
       "      <td>660</td>\n",
       "      <td>3.67</td>\n",
       "      <td>3</td>\n",
       "      <td>1</td>\n",
       "    </tr>\n",
       "    <tr>\n",
       "      <th>2</th>\n",
       "      <td>800</td>\n",
       "      <td>4.00</td>\n",
       "      <td>1</td>\n",
       "      <td>1</td>\n",
       "    </tr>\n",
       "    <tr>\n",
       "      <th>3</th>\n",
       "      <td>640</td>\n",
       "      <td>3.19</td>\n",
       "      <td>4</td>\n",
       "      <td>1</td>\n",
       "    </tr>\n",
       "    <tr>\n",
       "      <th>4</th>\n",
       "      <td>520</td>\n",
       "      <td>2.93</td>\n",
       "      <td>4</td>\n",
       "      <td>0</td>\n",
       "    </tr>\n",
       "    <tr>\n",
       "      <th>5</th>\n",
       "      <td>760</td>\n",
       "      <td>3.00</td>\n",
       "      <td>2</td>\n",
       "      <td>1</td>\n",
       "    </tr>\n",
       "    <tr>\n",
       "      <th>6</th>\n",
       "      <td>560</td>\n",
       "      <td>2.98</td>\n",
       "      <td>1</td>\n",
       "      <td>1</td>\n",
       "    </tr>\n",
       "    <tr>\n",
       "      <th>7</th>\n",
       "      <td>400</td>\n",
       "      <td>3.08</td>\n",
       "      <td>2</td>\n",
       "      <td>0</td>\n",
       "    </tr>\n",
       "    <tr>\n",
       "      <th>8</th>\n",
       "      <td>540</td>\n",
       "      <td>3.39</td>\n",
       "      <td>3</td>\n",
       "      <td>1</td>\n",
       "    </tr>\n",
       "    <tr>\n",
       "      <th>9</th>\n",
       "      <td>700</td>\n",
       "      <td>3.92</td>\n",
       "      <td>2</td>\n",
       "      <td>0</td>\n",
       "    </tr>\n",
       "  </tbody>\n",
       "</table>\n",
       "</div>"
      ],
      "text/plain": [
       "   gre   gpa  rank  admit\n",
       "0  380  3.61     3      0\n",
       "1  660  3.67     3      1\n",
       "2  800  4.00     1      1\n",
       "3  640  3.19     4      1\n",
       "4  520  2.93     4      0\n",
       "5  760  3.00     2      1\n",
       "6  560  2.98     1      1\n",
       "7  400  3.08     2      0\n",
       "8  540  3.39     3      1\n",
       "9  700  3.92     2      0"
      ]
     },
     "execution_count": 5,
     "metadata": {},
     "output_type": "execute_result"
    }
   ],
   "source": [
    "# Examine number of rows and columns \n",
    "print(\"num of rows, num of columns = \", data.shape)\n",
    "\n",
    "# That's a lot of rows. Let's just look at the first three columns of the data, instead of all of them\n",
    "data.head(10)"
   ]
  },
  {
   "cell_type": "code",
   "execution_count": 6,
   "metadata": {},
   "outputs": [],
   "source": [
    "# these column names could be a bit more specific - let's rename them\n",
    "data.columns = ['gre_score', 'undergrad_gpa', 'undergrad_school_rank', 'admitted']"
   ]
  },
  {
   "cell_type": "code",
   "execution_count": 7,
   "metadata": {
    "scrolled": false
   },
   "outputs": [
    {
     "name": "stdout",
     "output_type": "stream",
     "text": [
      "        gre_score  undergrad_gpa  undergrad_school_rank    admitted\n",
      "count  400.000000     400.000000              400.00000  400.000000\n",
      "mean   587.700000       3.389900                2.48500    0.317500\n",
      "std    115.516536       0.380567                0.94446    0.466087\n",
      "min    220.000000       2.260000                1.00000    0.000000\n",
      "25%    520.000000       3.130000                2.00000    0.000000\n",
      "50%    580.000000       3.395000                2.00000    0.000000\n",
      "75%    660.000000       3.670000                3.00000    1.000000\n",
      "max    800.000000       4.000000                4.00000    1.000000\n",
      "\n",
      "\n",
      "Number of students admitted = 127\n",
      "Number of students NOT admitted (rejected) = 273\n"
     ]
    }
   ],
   "source": [
    "# We can view summary statistics about the data by calling the \"describe()\" method of \"data\"\n",
    "# Def: Method - take an action on the data (a verb)\n",
    "\n",
    "print(data.describe())\n",
    "print('\\n')\n",
    "print(\"Number of students admitted = {}\".format(sum(data['admitted']==1)))\n",
    "print(\"Number of students NOT admitted (rejected) = {}\".format(sum(data['admitted']==0)))"
   ]
  },
  {
   "cell_type": "markdown",
   "metadata": {
    "collapsed": true
   },
   "source": [
    "**This first value, *admitted*, is what we would like to predict using a machine learning.** \n",
    "\n",
    "Before we can predict, we need to make sure we clean the data. Fortunately, someone cleaned this dataset for us already.\n",
    "<br>\n",
    "*Note - In most applications of data science and ML, we would take a closer look at cleaning the data. Data gathering and cleansing usually consumes 80%+ of the DS/ML process; however, this dataset happened to be extremely clean when it was retrieved from its source online.*"
   ]
  },
  {
   "cell_type": "markdown",
   "metadata": {},
   "source": [
    "## Part 2: Decision Tree - The Building Block of Random Forest"
   ]
  },
  {
   "cell_type": "markdown",
   "metadata": {},
   "source": [
    "<img src=\"images/tree_joke.jpg\" height=\"500\" align=\"center\"/>\n"
   ]
  },
  {
   "cell_type": "markdown",
   "metadata": {},
   "source": [
    "### Conceptual Introduction"
   ]
  },
  {
   "cell_type": "markdown",
   "metadata": {},
   "source": [
    "In machine learning, the columns to be used as inputs (X) are referred to as the **features**, and the output (y) value is referred to as the **target** or the **label**.\n",
    "<br>\n",
    "\n",
    "Since we are given the target/label values in this dataset, the type of machine learning we will be doing is called **supervised**. \n",
    "<br>\n",
    "In particular, we will be using a random forest. Before we jump into that, we need to understand the basic building block of that model, known as the decision tree. \n",
    "<br>\n",
    "<br>\n",
    "A decision tree is one of the easiest machine learning model to comprehend, since it is easily visualized. The below graphic is an example of a simple decision tree. Notice that each *node* contains a yes/no question, and each *branch* leads to a new node, unless it leads to an answer. These answers are called *leaves* or *leaf nodes*."
   ]
  },
  {
   "cell_type": "markdown",
   "metadata": {},
   "source": [
    "<img src=\"images/decision_tree_example.jpg\" width=\"500\" height=\"500\" align=\"center\"/>"
   ]
  },
  {
   "cell_type": "markdown",
   "metadata": {},
   "source": [
    "How are these questions determined? The decision tree is given several features (inputs) and determines which questions to ask to *gain the most information from the oucome*, i.e., to increase **information gain**. You can think of a decision tree like a game of *Guess Who?*. Each round, you ask one question in order to get the most information out of the opposite player. \n",
    "<br>\n",
    "<br>\n",
    "For example, a popular first round question is, *\"Is your character a man or woman?\"*. This gives you a lot more information than asking *\"Is your character Joe?\"*."
   ]
  },
  {
   "cell_type": "markdown",
   "metadata": {},
   "source": [
    "<img src=\"images/guess_who.jpg\" width=\"500\" height=\"500\" align=\"center\"/>"
   ]
  },
  {
   "cell_type": "markdown",
   "metadata": {},
   "source": [
    "Visual Represenation: http://www.r2d3.us/visual-intro-to-machine-learning-part-1/"
   ]
  },
  {
   "cell_type": "markdown",
   "metadata": {},
   "source": [
    "### Splitting the Data"
   ]
  },
  {
   "cell_type": "markdown",
   "metadata": {},
   "source": [
    "In order to perform supervised learning, we will **train** (aka, fit) our model, and then **test** our model to see how accurate it is. We do this by first dividing the data into the **training data** and the **testing data**. In order for our model to be trained adequately, we would like it to have as much data as possible. Therefore, we take 80% of our current dataset to be the training data, and the remaining 20% to be the testing data. This is somewhat arbitrary, but the split usually lies around 75 / 25 or 80 / 20. \n",
    "<br>\n",
    "\n",
    "Also recall from above that the input (X) values are referred to as **features** and the output (y) values are referred to as **targets** or **labels**. We need to store the columns in our dataset into these variables before we can split our data.\n"
   ]
  },
  {
   "cell_type": "markdown",
   "metadata": {},
   "source": [
    "<img src=\"images/splitting_data.png\" width=\"700\" height=\"700\" align=\"center\"/>"
   ]
  },
  {
   "cell_type": "markdown",
   "metadata": {},
   "source": [
    "We will first split our data into **feaures** and **labels**, and then **training data** and **testing data**."
   ]
  },
  {
   "cell_type": "markdown",
   "metadata": {},
   "source": [
    "*Features vs. Labels*"
   ]
  },
  {
   "cell_type": "code",
   "execution_count": 8,
   "metadata": {},
   "outputs": [
    {
     "name": "stdout",
     "output_type": "stream",
     "text": [
      "Our Features are: ['gre_score', 'undergrad_gpa', 'undergrad_school_rank']\n",
      "Our Label is:     ['admitted']\n"
     ]
    }
   ],
   "source": [
    "print(\"Our Features are: {}\".format(list(data.columns[0:3])))\n",
    "print(\"Our Label is:     {}\".format([data.columns[-1]]))"
   ]
  },
  {
   "cell_type": "code",
   "execution_count": 9,
   "metadata": {},
   "outputs": [
    {
     "name": "stdout",
     "output_type": "stream",
     "text": [
      "FEATURES\n",
      "shape:  \n",
      " (400, 3)\n",
      "first five rows:  \n",
      "    gre_score  undergrad_gpa  undergrad_school_rank\n",
      "0        380           3.61                      3\n",
      "1        660           3.67                      3\n",
      "2        800           4.00                      1\n",
      "3        640           3.19                      4\n",
      "4        520           2.93                      4\n"
     ]
    }
   ],
   "source": [
    "# Convert to numpy arrays - these are similar to dataframes but have less structure. sklearn can only take numpy arrays\n",
    "\n",
    "# Drop the cmedv column - the features are all the columns except this one\n",
    "\n",
    "### (specify features) ###\n",
    "\n",
    "print(\"FEATURES\")\n",
    "print(\"shape: \", \"\\n\", features.shape)\n",
    "print(\"first five rows: \", \"\\n\", features[:5])"
   ]
  },
  {
   "cell_type": "code",
   "execution_count": 10,
   "metadata": {},
   "outputs": [
    {
     "name": "stdout",
     "output_type": "stream",
     "text": [
      "LABELS\n",
      "shape:  \n",
      " (400,)\n",
      "first five rows: \n",
      "0\n",
      "1\n",
      "1\n",
      "1\n",
      "0\n"
     ]
    },
    {
     "data": {
      "text/plain": [
       "[None, None, None, None, None]"
      ]
     },
     "execution_count": 10,
     "metadata": {},
     "output_type": "execute_result"
    }
   ],
   "source": [
    "# Drop all columns that aren't cmedv - cmedv is the only label\n",
    "\n",
    "### (specify target (label)) ###\n",
    "\n",
    "labels = np.array(labels)\n",
    "labels = labels.reshape([400,])\n",
    "\n",
    "print(\"LABELS\")\n",
    "print(\"shape: \", \"\\n\", labels.shape)\n",
    "print(\"first five rows: \")\n",
    "[print(lab) for lab in labels[0:5]]"
   ]
  },
  {
   "cell_type": "markdown",
   "metadata": {},
   "source": [
    "*Training Data vs. Testing Data*"
   ]
  },
  {
   "cell_type": "code",
   "execution_count": 11,
   "metadata": {},
   "outputs": [],
   "source": [
    "# Use scikit-learn to split the data and store the data into variables. \n",
    "# Notice we specify test_size = 0.2. This gives the 80/20 split as explained above\n",
    "\n",
    "from sklearn.model_selection import train_test_split\n",
    "### (split data) ###"
   ]
  },
  {
   "cell_type": "markdown",
   "metadata": {},
   "source": [
    "### The Supervised Learning Approach"
   ]
  },
  {
   "cell_type": "markdown",
   "metadata": {},
   "source": [
    "As we know, a decision tree is a supervised learnin model, since we have labels that help the algorithm learn. The following picture depicts the supervised learning approach."
   ]
  },
  {
   "cell_type": "markdown",
   "metadata": {},
   "source": [
    "<img src=\"images/Supervised_Learning.png\" width=\"700\" height=\"700\" align=\"center\"/>\n"
   ]
  },
  {
   "cell_type": "markdown",
   "metadata": {},
   "source": [
    "### Step 1: Train the Model"
   ]
  },
  {
   "cell_type": "markdown",
   "metadata": {},
   "source": [
    "Sci-kit learn 3 lines of code to Train the Model"
   ]
  },
  {
   "cell_type": "code",
   "execution_count": 12,
   "metadata": {},
   "outputs": [],
   "source": [
    "# import\n",
    "from sklearn import tree\n",
    "\n",
    "# instantiate \n",
    "decision_tree = tree.DecisionTreeClassifier(random_state = 8)\n",
    "\n",
    "# train/fit\n",
    "decision_tree = decision_tree.fit(X_train, y_train)"
   ]
  },
  {
   "cell_type": "markdown",
   "metadata": {},
   "source": [
    "Let's see what our *Trained Model* looks like by converting the tree into an image."
   ]
  },
  {
   "cell_type": "code",
   "execution_count": 13,
   "metadata": {},
   "outputs": [],
   "source": [
    "# # View picture after converting to png (I did this for you already)\n",
    "# !\"images/tree_clf.png\""
   ]
  },
  {
   "cell_type": "markdown",
   "metadata": {},
   "source": [
    "### Step 2: Test the Model"
   ]
  },
  {
   "cell_type": "markdown",
   "metadata": {},
   "source": [
    "Here, we will use the labels from the testing data to generate predictions on the admissions. Let's see what the model comes up with."
   ]
  },
  {
   "cell_type": "code",
   "execution_count": 14,
   "metadata": {
    "scrolled": true
   },
   "outputs": [
    {
     "data": {
      "text/html": [
       "<div>\n",
       "<style scoped>\n",
       "    .dataframe tbody tr th:only-of-type {\n",
       "        vertical-align: middle;\n",
       "    }\n",
       "\n",
       "    .dataframe tbody tr th {\n",
       "        vertical-align: top;\n",
       "    }\n",
       "\n",
       "    .dataframe thead th {\n",
       "        text-align: right;\n",
       "    }\n",
       "</style>\n",
       "<table border=\"1\" class=\"dataframe\">\n",
       "  <thead>\n",
       "    <tr style=\"text-align: right;\">\n",
       "      <th></th>\n",
       "      <th>predicted value</th>\n",
       "      <th>actual value</th>\n",
       "    </tr>\n",
       "  </thead>\n",
       "  <tbody>\n",
       "    <tr>\n",
       "      <th>0</th>\n",
       "      <td>0</td>\n",
       "      <td>0</td>\n",
       "    </tr>\n",
       "    <tr>\n",
       "      <th>1</th>\n",
       "      <td>1</td>\n",
       "      <td>0</td>\n",
       "    </tr>\n",
       "    <tr>\n",
       "      <th>2</th>\n",
       "      <td>0</td>\n",
       "      <td>0</td>\n",
       "    </tr>\n",
       "    <tr>\n",
       "      <th>3</th>\n",
       "      <td>0</td>\n",
       "      <td>1</td>\n",
       "    </tr>\n",
       "    <tr>\n",
       "      <th>4</th>\n",
       "      <td>0</td>\n",
       "      <td>0</td>\n",
       "    </tr>\n",
       "    <tr>\n",
       "      <th>5</th>\n",
       "      <td>0</td>\n",
       "      <td>0</td>\n",
       "    </tr>\n",
       "    <tr>\n",
       "      <th>6</th>\n",
       "      <td>0</td>\n",
       "      <td>1</td>\n",
       "    </tr>\n",
       "    <tr>\n",
       "      <th>7</th>\n",
       "      <td>1</td>\n",
       "      <td>0</td>\n",
       "    </tr>\n",
       "    <tr>\n",
       "      <th>8</th>\n",
       "      <td>1</td>\n",
       "      <td>0</td>\n",
       "    </tr>\n",
       "    <tr>\n",
       "      <th>9</th>\n",
       "      <td>0</td>\n",
       "      <td>1</td>\n",
       "    </tr>\n",
       "  </tbody>\n",
       "</table>\n",
       "</div>"
      ],
      "text/plain": [
       "   predicted value  actual value\n",
       "0                0             0\n",
       "1                1             0\n",
       "2                0             0\n",
       "3                0             1\n",
       "4                0             0\n",
       "5                0             0\n",
       "6                0             1\n",
       "7                1             0\n",
       "8                1             0\n",
       "9                0             1"
      ]
     },
     "execution_count": 14,
     "metadata": {},
     "output_type": "execute_result"
    }
   ],
   "source": [
    "# Use the forest's predict method on the test data\n",
    "tree_predictions = decision_tree.predict(X_test)\n",
    "\n",
    "# Format and print\n",
    "tree_predictions = pd.Series(tree_predictions)\n",
    "pd.DataFrame(data = {'predicted value': tree_predictions, 'actual value':list(int(val) for val in y_test)}).head(10)"
   ]
  },
  {
   "cell_type": "markdown",
   "metadata": {},
   "source": [
    "<br>\n",
    "As you can see, the predicted values differ from the y_values for each row; the accuracy of each row differs. To better understand our model's performance, however, we want to view a few different measures. "
   ]
  },
  {
   "cell_type": "markdown",
   "metadata": {},
   "source": [
    "### Step 3: Measure the Model's Performance"
   ]
  },
  {
   "cell_type": "markdown",
   "metadata": {},
   "source": [
    "Accuracy is a well known measurement, but we will use a measure called **F1 Score** instead. \n",
    "<br>"
   ]
  },
  {
   "cell_type": "markdown",
   "metadata": {},
   "source": [
    "Why accuracy *alone* is not a great measure of a model:\n",
    "<br>\n",
    "https://tryolabs.com/blog/2013/03/25/why-accuracy-alone-bad-measure-classification-tasks-and-what-we-can-do-about-it/\n"
   ]
  },
  {
   "cell_type": "markdown",
   "metadata": {},
   "source": [
    "To better understand how our classification model performed, we can view a *confusion matrix*. The confusion matrix displays the number of data points it predicted correctly (True Negative, True Positive) as well as the number of data points that were predicted incorrectly (False Positive, False Negative)."
   ]
  },
  {
   "cell_type": "markdown",
   "metadata": {},
   "source": [
    "<img src=\"images/conf_matrix.jpeg\" width=\"600\" align=\"center\"/>"
   ]
  },
  {
   "cell_type": "markdown",
   "metadata": {},
   "source": [
    "Let's plot the confusion matrix for our data "
   ]
  },
  {
   "cell_type": "code",
   "execution_count": 15,
   "metadata": {},
   "outputs": [
    {
     "name": "stdout",
     "output_type": "stream",
     "text": [
      "None\n",
      "Confusion matrix, without normalization\n",
      "[[35 16]\n",
      " [16 13]]\n"
     ]
    },
    {
     "data": {
      "image/png": "[encoded data removed]",
      "text/plain": [
       "<Figure size 432x288 with 2 Axes>"
      ]
     },
     "metadata": {
      "needs_background": "light"
     },
     "output_type": "display_data"
    }
   ],
   "source": [
    "from util import plot_confusion_matrix\n",
    "plot_confusion_matrix(y_true = y_test , y_pred = tree_predictions, classes=['not admitted','admitted'])\n",
    "plt.show()"
   ]
  },
  {
   "cell_type": "markdown",
   "metadata": {},
   "source": [
    "Using the Confusion Matrix, we can calculate other values to measure our model's performance\n",
    "<br><br>\n",
    "\n",
    "<img src=\"images/precision_recall.png\" width=\"300\" align=\"center\"/>\n",
    "<img src=\"images/f1_score.png\" width=\"250\" align=\"center\"/>"
   ]
  },
  {
   "cell_type": "code",
   "execution_count": 16,
   "metadata": {
    "scrolled": true
   },
   "outputs": [
    {
     "name": "stdout",
     "output_type": "stream",
     "text": [
      "              precision    recall  f1-score   support\n",
      "\n",
      "           0       0.69      0.69      0.69        51\n",
      "           1       0.45      0.45      0.45        29\n",
      "\n",
      "    accuracy                           0.60        80\n",
      "   macro avg       0.57      0.57      0.57        80\n",
      "weighted avg       0.60      0.60      0.60        80\n",
      "\n"
     ]
    }
   ],
   "source": [
    "from sklearn.metrics import classification_report\n",
    "\n",
    "report = classification_report(y_true = y_test , y_pred = tree_predictions)\n",
    "print(report)"
   ]
  },
  {
   "cell_type": "markdown",
   "metadata": {},
   "source": [
    "Reference and further Reading on this topic - *Highly Recommend*\n",
    "https://towardsdatascience.com/accuracy-precision-recall-or-f1-331fb37c5cb9"
   ]
  },
  {
   "cell_type": "markdown",
   "metadata": {},
   "source": [
    "Let's calculate our f1 score using sklearn. "
   ]
  },
  {
   "cell_type": "code",
   "execution_count": 17,
   "metadata": {},
   "outputs": [],
   "source": [
    "from sklearn.metrics import accuracy_score, f1_score"
   ]
  },
  {
   "cell_type": "code",
   "execution_count": 18,
   "metadata": {},
   "outputs": [
    {
     "name": "stdout",
     "output_type": "stream",
     "text": [
      "Decision Tree F1 Score = 0.45\n"
     ]
    }
   ],
   "source": [
    "f1 = f1_score(y_true = y_test, y_pred = tree_predictions)\n",
    "\n",
    "print(\"Decision Tree F1 Score = {}\".format(round(f1, 2)))"
   ]
  },
  {
   "cell_type": "markdown",
   "metadata": {},
   "source": [
    "While this decision tree is quite accurate, we can possibly improve accuracy using the random forest model. The random forest model essentially builds multiple decision trees, takes the outputs from all of those trees, and determines the best prediction by taking the average (regression) or the mode (classification) of the outputs"
   ]
  },
  {
   "cell_type": "markdown",
   "metadata": {},
   "source": [
    "## Part 3: Random Forest"
   ]
  },
  {
   "cell_type": "markdown",
   "metadata": {},
   "source": [
    "<img src=\"images/random-forest.jpg\" width=\"700\" height=\"700\" align=\"center\"/>\n"
   ]
  },
  {
   "cell_type": "markdown",
   "metadata": {},
   "source": [
    "The random forest is an **ensemble model** i.e., it combines multiple models into one larger model. By combining multiple decision trees, the random forest is able to improve the prediction accuracy. \n",
    "\n",
    "<br> The random forest combines multiple decision trees by using a concept called **bootstrap aggregating**, or **bagging** for short. This method builds multiple (usually 1,000's) decision trees during the *Train the Model* step. When we *Test the Model*, each decision tree predicts the output and the random forest combines all the outputs into a *single* output. It does this by either taking a majority vote (in classification) or by aggregating the values (in regression, which is our case) by use of a mean, median, etc. \n",
    "\n",
    "This is all done behind the scenes within sklearn. The same 3-step process is used (recall that the data was originally split above)."
   ]
  },
  {
   "cell_type": "markdown",
   "metadata": {},
   "source": [
    "### Step 1: Train the Model"
   ]
  },
  {
   "cell_type": "markdown",
   "metadata": {},
   "source": [
    "Again, we import, instantiate, and then fit\n",
    "<br>\n",
    "Here, n_estimators is the number of decision trees in our random forest"
   ]
  },
  {
   "cell_type": "code",
   "execution_count": 19,
   "metadata": {},
   "outputs": [
    {
     "data": {
      "text/plain": [
       "RandomForestClassifier(bootstrap=True, class_weight=None, criterion='gini',\n",
       "                       max_depth=None, max_features='auto', max_leaf_nodes=None,\n",
       "                       min_impurity_decrease=0.0, min_impurity_split=None,\n",
       "                       min_samples_leaf=1, min_samples_split=2,\n",
       "                       min_weight_fraction_leaf=0.0, n_estimators=1000,\n",
       "                       n_jobs=None, oob_score=False, random_state=10, verbose=0,\n",
       "                       warm_start=False)"
      ]
     },
     "execution_count": 19,
     "metadata": {},
     "output_type": "execute_result"
    }
   ],
   "source": [
    "# import \n",
    "### (import here) ###\n",
    "\n",
    "# instantiate \n",
    "### (instantiate here) ###\n",
    "\n",
    "# train/fit\n",
    "### (train/fit here) ###"
   ]
  },
  {
   "cell_type": "markdown",
   "metadata": {},
   "source": [
    "### Step 2: Test the Model"
   ]
  },
  {
   "cell_type": "code",
   "execution_count": 20,
   "metadata": {},
   "outputs": [
    {
     "data": {
      "text/html": [
       "<div>\n",
       "<style scoped>\n",
       "    .dataframe tbody tr th:only-of-type {\n",
       "        vertical-align: middle;\n",
       "    }\n",
       "\n",
       "    .dataframe tbody tr th {\n",
       "        vertical-align: top;\n",
       "    }\n",
       "\n",
       "    .dataframe thead th {\n",
       "        text-align: right;\n",
       "    }\n",
       "</style>\n",
       "<table border=\"1\" class=\"dataframe\">\n",
       "  <thead>\n",
       "    <tr style=\"text-align: right;\">\n",
       "      <th></th>\n",
       "      <th>predicted values</th>\n",
       "      <th>actual value</th>\n",
       "    </tr>\n",
       "  </thead>\n",
       "  <tbody>\n",
       "    <tr>\n",
       "      <th>0</th>\n",
       "      <td>0</td>\n",
       "      <td>0</td>\n",
       "    </tr>\n",
       "    <tr>\n",
       "      <th>1</th>\n",
       "      <td>0</td>\n",
       "      <td>0</td>\n",
       "    </tr>\n",
       "    <tr>\n",
       "      <th>2</th>\n",
       "      <td>0</td>\n",
       "      <td>0</td>\n",
       "    </tr>\n",
       "    <tr>\n",
       "      <th>3</th>\n",
       "      <td>0</td>\n",
       "      <td>1</td>\n",
       "    </tr>\n",
       "    <tr>\n",
       "      <th>4</th>\n",
       "      <td>0</td>\n",
       "      <td>0</td>\n",
       "    </tr>\n",
       "    <tr>\n",
       "      <th>5</th>\n",
       "      <td>0</td>\n",
       "      <td>0</td>\n",
       "    </tr>\n",
       "    <tr>\n",
       "      <th>6</th>\n",
       "      <td>0</td>\n",
       "      <td>1</td>\n",
       "    </tr>\n",
       "    <tr>\n",
       "      <th>7</th>\n",
       "      <td>1</td>\n",
       "      <td>0</td>\n",
       "    </tr>\n",
       "    <tr>\n",
       "      <th>8</th>\n",
       "      <td>0</td>\n",
       "      <td>0</td>\n",
       "    </tr>\n",
       "    <tr>\n",
       "      <th>9</th>\n",
       "      <td>0</td>\n",
       "      <td>1</td>\n",
       "    </tr>\n",
       "  </tbody>\n",
       "</table>\n",
       "</div>"
      ],
      "text/plain": [
       "   predicted values  actual value\n",
       "0                 0             0\n",
       "1                 0             0\n",
       "2                 0             0\n",
       "3                 0             1\n",
       "4                 0             0\n",
       "5                 0             0\n",
       "6                 0             1\n",
       "7                 1             0\n",
       "8                 0             0\n",
       "9                 0             1"
      ]
     },
     "execution_count": 20,
     "metadata": {},
     "output_type": "execute_result"
    }
   ],
   "source": [
    "# Now let's predict and see the predictions next to the actual y values\n",
    "\n",
    "# predict\n",
    "### (predict here) ###"
   ]
  },
  {
   "cell_type": "markdown",
   "metadata": {},
   "source": [
    "### Step 3: Measure the Model's Performance"
   ]
  },
  {
   "cell_type": "code",
   "execution_count": 21,
   "metadata": {},
   "outputs": [
    {
     "name": "stdout",
     "output_type": "stream",
     "text": [
      "Random Forest F1 Score = 0.52\n"
     ]
    }
   ],
   "source": [
    "### (measure performance here) ###"
   ]
  },
  {
   "cell_type": "markdown",
   "metadata": {},
   "source": [
    "As shown here, our Random Forest \"out of the box\" improved our F1 Score over the Decision Tree's \"out of the box\" F1 Score (0.45). \n",
    "<br>**Ensemble models are known to improve accuracy.**"
   ]
  },
  {
   "cell_type": "markdown",
   "metadata": {},
   "source": [
    "Although we see that simply using Random Forest is better than a single decision tree, there is still room for improvement. These next 2 sections will show you some techniques to both simplify and tune your model in order to improve its accuracy."
   ]
  },
  {
   "cell_type": "markdown",
   "metadata": {},
   "source": [
    "# ~ Break ~"
   ]
  },
  {
   "cell_type": "markdown",
   "metadata": {},
   "source": [
    "## Part 4: Overfitting vs. Underfitting: Cross Validation & Grid Search"
   ]
  },
  {
   "cell_type": "markdown",
   "metadata": {},
   "source": [
    "What happens if we use our trained model on the training set of the data?"
   ]
  },
  {
   "cell_type": "code",
   "execution_count": 22,
   "metadata": {},
   "outputs": [
    {
     "name": "stdout",
     "output_type": "stream",
     "text": [
      "Random Forest Training Data F1 Score = 0.98\n"
     ]
    }
   ],
   "source": [
    "predictions_training = rf.predict(X_train)\n",
    "\n",
    "f1 = f1_score(y_true=y_train, y_pred=predictions_training)\n",
    "print(\"Random Forest Training Data F1 Score = {}\".format(round(f1,2)))"
   ]
  },
  {
   "cell_type": "markdown",
   "metadata": {},
   "source": [
    "By fitting the model \"out of the box\", we allowed the tree to grow as large as possible (we can see this because there was almost no error when it predicted the y values for the training data... the model predicted almost every y value exactly).This behavior is known as **overfitting**.\n",
    "\n",
    "Overfitting is when the model follows the *\"noise\"* of the **training data** too closely, and therefore won't predict general input data later on."
   ]
  },
  {
   "cell_type": "markdown",
   "metadata": {},
   "source": [
    "<br>"
   ]
  },
  {
   "cell_type": "markdown",
   "metadata": {},
   "source": [
    "<img src=\"images/bias-variance-tradeoff.png\" width=\"700\" height=\"700\" align=\"center\"/>"
   ]
  },
  {
   "cell_type": "markdown",
   "metadata": {},
   "source": [
    "<img src=\"images/overfitting_underfitting.png\" width=\"700\" height=\"700\" align=\"center\"/>"
   ]
  },
  {
   "cell_type": "markdown",
   "metadata": {},
   "source": [
    "### Cross Validation"
   ]
  },
  {
   "cell_type": "markdown",
   "metadata": {},
   "source": [
    "One way to avoid overfitting is to use *Cross Validation*. "
   ]
  },
  {
   "cell_type": "markdown",
   "metadata": {},
   "source": [
    "https://scikit-learn.org/stable/modules/cross_validation.html#cross-validation"
   ]
  },
  {
   "cell_type": "markdown",
   "metadata": {},
   "source": [
    "<img src=\"images/cross_validation.png\" width=\"700\" height=\"700\" align=\"center\"/>"
   ]
  },
  {
   "cell_type": "code",
   "execution_count": 23,
   "metadata": {},
   "outputs": [],
   "source": [
    "# import \n",
    "from sklearn.model_selection import cross_val_score\n",
    "from sklearn.ensemble import RandomForestClassifier\n",
    "\n",
    "# instantiate \n",
    "rf = RandomForestClassifier(n_estimators = 1000, random_state = 10)\n",
    "\n",
    "# fit/train\n",
    "### (fit/train here) ###"
   ]
  },
  {
   "cell_type": "code",
   "execution_count": 24,
   "metadata": {
    "scrolled": false
   },
   "outputs": [
    {
     "name": "stdout",
     "output_type": "stream",
     "text": [
      "[0.42857143 0.55813953 0.41860465 0.43478261 0.29787234]\n"
     ]
    }
   ],
   "source": [
    "print(cv)"
   ]
  },
  {
   "cell_type": "markdown",
   "metadata": {},
   "source": [
    "### Grid Search"
   ]
  },
  {
   "cell_type": "markdown",
   "metadata": {},
   "source": [
    "Another way to combat overfitting is to decrease the depth of each tree (either before or after fitting - research *pruning*). Let's create several RF models, each with a different max_depth input. We can see how each of these performs to determine which of the models are overfitting."
   ]
  },
  {
   "cell_type": "markdown",
   "metadata": {},
   "source": [
    "https://scikit-learn.org/stable/modules/grid_search.html"
   ]
  },
  {
   "cell_type": "code",
   "execution_count": 25,
   "metadata": {},
   "outputs": [],
   "source": [
    "max_depths = list(range(3,15))"
   ]
  },
  {
   "cell_type": "code",
   "execution_count": 26,
   "metadata": {},
   "outputs": [],
   "source": [
    "from sklearn.metrics import f1_score\n",
    "\n",
    "accuracy_list=[]\n",
    "test_f1_list=[]\n",
    "\n",
    "for depth in max_depths:\n",
    "    ## import - already done\n",
    "\n",
    "    ## instantiate \n",
    "    rf = RandomForestClassifier(max_depth = depth, n_estimators = 1000, random_state = 10)\n",
    "\n",
    "    ## train/fit\n",
    "    rf.fit(X_train, y_train)\n",
    "    \n",
    "    # predict on the training data \n",
    "    predictions_testing = rf.predict(X_test)\n",
    "    \n",
    "    # f1 score for test set \n",
    "    test_f1 = f1_score(y_true=y_test, y_pred=predictions_testing)\n",
    "    test_f1_list.append(test_f1)"
   ]
  },
  {
   "cell_type": "code",
   "execution_count": 27,
   "metadata": {},
   "outputs": [
    {
     "data": {
      "image/png": "[encoded data removed]",
      "text/plain": [
       "<Figure size 432x288 with 1 Axes>"
      ]
     },
     "metadata": {
      "needs_background": "light"
     },
     "output_type": "display_data"
    }
   ],
   "source": [
    "neg_test_f1_list = [1-test_f1 for test_f1 in test_f1_list]\n",
    "plt.scatter(x=max_depths, y=neg_test_f1_list)\n",
    "plt.title(\"Performance of Several RF Models with Different Max Depths\")\n",
    "plt.xlabel(\"Depth of Trees in Model\")\n",
    "plt.ylabel(\"Test Error\")\n",
    "plt.show()"
   ]
  },
  {
   "cell_type": "code",
   "execution_count": 28,
   "metadata": {},
   "outputs": [
    {
     "data": {
      "image/png": "[encoded data removed]",
      "text/plain": [
       "<Figure size 432x288 with 1 Axes>"
      ]
     },
     "metadata": {
      "needs_background": "light"
     },
     "output_type": "display_data"
    }
   ],
   "source": [
    "plt.scatter(x=max_depths, y=test_f1_list)\n",
    "plt.title(\"Performance of Several RF Models with Different Max Depths\")\n",
    "plt.xlabel(\"Depth of Trees in Model\")\n",
    "plt.ylabel(\"F1 Score of Test Data\")\n",
    "plt.show()"
   ]
  },
  {
   "cell_type": "markdown",
   "metadata": {},
   "source": [
    "The performance (f1 score) of the testing data helps us which models are overfitting. The inflection point at Depth of Tress in Model = 7 shows us that our Random Forest models with max_depth greater than 7 will overfit the data and therefore perform lower."
   ]
  },
  {
   "cell_type": "markdown",
   "metadata": {},
   "source": [
    "We can repeat this process for a few different *hyperparameters*. We build models for all combinations of hyperparameters, calculate the model performance, and then return the best one. \n",
    "<br><br>\n",
    "This process is called a **Grid Search**."
   ]
  },
  {
   "cell_type": "markdown",
   "metadata": {},
   "source": [
    "### GridSearchCV"
   ]
  },
  {
   "cell_type": "markdown",
   "metadata": {},
   "source": [
    "https://machinelearningmastery.com/how-to-tune-algorithm-parameters-with-scikit-learn/"
   ]
  },
  {
   "cell_type": "markdown",
   "metadata": {},
   "source": [
    "Let's combine the Cross Validation with Grid Search"
   ]
  },
  {
   "cell_type": "code",
   "execution_count": 29,
   "metadata": {},
   "outputs": [
    {
     "name": "stderr",
     "output_type": "stream",
     "text": [
      "C:\\Users\\tomsharp\\AppData\\Local\\Continuum\\anaconda3\\lib\\site-packages\\sklearn\\model_selection\\_search.py:813: DeprecationWarning: The default of the `iid` parameter will change from True to False in version 0.22 and will be removed in 0.24. This will change numeric results when test-set sizes are unequal.\n",
      "  DeprecationWarning)\n"
     ]
    },
    {
     "data": {
      "text/plain": [
       "GridSearchCV(cv=5, error_score='raise-deprecating',\n",
       "             estimator=RandomForestClassifier(bootstrap=True, class_weight=None,\n",
       "                                              criterion='gini', max_depth=None,\n",
       "                                              max_features='auto',\n",
       "                                              max_leaf_nodes=None,\n",
       "                                              min_impurity_decrease=0.0,\n",
       "                                              min_impurity_split=None,\n",
       "                                              min_samples_leaf=1,\n",
       "                                              min_samples_split=2,\n",
       "                                              min_weight_fraction_leaf=0.0,\n",
       "                                              n_estimators='warn', n_jobs=None,\n",
       "                                              oob_score=False, random_state=10,\n",
       "                                              verbose=0, warm_start=False),\n",
       "             iid='warn', n_jobs=None,\n",
       "             param_grid={'max_depth': [3, 4, 5, 6, 7, 8, 9, 10, 11, 12, 13, 14],\n",
       "                         'n_estimators': [10, 50, 100]},\n",
       "             pre_dispatch='2*n_jobs', refit=True, return_train_score=True,\n",
       "             scoring=None, verbose=0)"
      ]
     },
     "execution_count": 29,
     "metadata": {},
     "output_type": "execute_result"
    }
   ],
   "source": [
    "from sklearn.model_selection import GridSearchCV\n",
    "\n",
    "# search space\n",
    "max_depths = list(range(3,15))\n",
    "n_estimators = [10, 50, 100]\n",
    "search_space = {'max_depth':max_depths,\n",
    "                'n_estimators': n_estimators}\n",
    "\n",
    "# instantiate \n",
    "rf = RandomForestClassifier(random_state = 10)\n",
    "gCV = GridSearchCV(rf, search_space, cv=5, return_train_score=True)\n",
    "\n",
    "# train/fit\n",
    "gCV.fit(X_train, y_train)"
   ]
  },
  {
   "cell_type": "code",
   "execution_count": 30,
   "metadata": {},
   "outputs": [
    {
     "data": {
      "text/plain": [
       "array([0.7531006 , 0.74295644, 0.74139695, 0.77341642, 0.76326305,\n",
       "       0.76949179, 0.80230776, 0.81171335, 0.81170729, 0.83672898,\n",
       "       0.85544563, 0.85857985, 0.87813264, 0.89140496, 0.90000491,\n",
       "       0.91326802, 0.92970802, 0.92892066, 0.93437419, 0.95781504,\n",
       "       0.96253617, 0.95390259, 0.97735263, 0.98283364, 0.96172742,\n",
       "       0.98829331, 0.98985277, 0.96641496, 0.98984667, 0.99140919,\n",
       "       0.9679897 , 0.99063098, 0.99140919, 0.96876791, 0.98906236,\n",
       "       0.99140919])"
      ]
     },
     "execution_count": 30,
     "metadata": {},
     "output_type": "execute_result"
    }
   ],
   "source": [
    "gCV.cv_results_['mean_train_score']"
   ]
  },
  {
   "cell_type": "code",
   "execution_count": 31,
   "metadata": {
    "scrolled": true
   },
   "outputs": [
    {
     "data": {
      "text/html": [
       "<div>\n",
       "<style scoped>\n",
       "    .dataframe tbody tr th:only-of-type {\n",
       "        vertical-align: middle;\n",
       "    }\n",
       "\n",
       "    .dataframe tbody tr th {\n",
       "        vertical-align: top;\n",
       "    }\n",
       "\n",
       "    .dataframe thead th {\n",
       "        text-align: right;\n",
       "    }\n",
       "</style>\n",
       "<table border=\"1\" class=\"dataframe\">\n",
       "  <thead>\n",
       "    <tr style=\"text-align: right;\">\n",
       "      <th></th>\n",
       "      <th>params</th>\n",
       "      <th>split0_test_score</th>\n",
       "      <th>split1_test_score</th>\n",
       "      <th>split2_test_score</th>\n",
       "      <th>split3_test_score</th>\n",
       "      <th>split4_test_score</th>\n",
       "      <th>mean_test_score</th>\n",
       "      <th>std_test_score</th>\n",
       "      <th>mean_train_score</th>\n",
       "    </tr>\n",
       "  </thead>\n",
       "  <tbody>\n",
       "    <tr>\n",
       "      <th>0</th>\n",
       "      <td>{'max_depth': 3, 'n_estimators': 10}</td>\n",
       "      <td>0.707692</td>\n",
       "      <td>0.723077</td>\n",
       "      <td>0.656250</td>\n",
       "      <td>0.714286</td>\n",
       "      <td>0.698413</td>\n",
       "      <td>0.700000</td>\n",
       "      <td>0.023317</td>\n",
       "      <td>0.753101</td>\n",
       "    </tr>\n",
       "    <tr>\n",
       "      <th>1</th>\n",
       "      <td>{'max_depth': 3, 'n_estimators': 50}</td>\n",
       "      <td>0.738462</td>\n",
       "      <td>0.738462</td>\n",
       "      <td>0.671875</td>\n",
       "      <td>0.746032</td>\n",
       "      <td>0.714286</td>\n",
       "      <td>0.721875</td>\n",
       "      <td>0.027166</td>\n",
       "      <td>0.742956</td>\n",
       "    </tr>\n",
       "    <tr>\n",
       "      <th>2</th>\n",
       "      <td>{'max_depth': 3, 'n_estimators': 100}</td>\n",
       "      <td>0.738462</td>\n",
       "      <td>0.738462</td>\n",
       "      <td>0.671875</td>\n",
       "      <td>0.730159</td>\n",
       "      <td>0.714286</td>\n",
       "      <td>0.718750</td>\n",
       "      <td>0.025037</td>\n",
       "      <td>0.741397</td>\n",
       "    </tr>\n",
       "    <tr>\n",
       "      <th>3</th>\n",
       "      <td>{'max_depth': 4, 'n_estimators': 10}</td>\n",
       "      <td>0.723077</td>\n",
       "      <td>0.738462</td>\n",
       "      <td>0.687500</td>\n",
       "      <td>0.698413</td>\n",
       "      <td>0.698413</td>\n",
       "      <td>0.709375</td>\n",
       "      <td>0.018788</td>\n",
       "      <td>0.773416</td>\n",
       "    </tr>\n",
       "    <tr>\n",
       "      <th>4</th>\n",
       "      <td>{'max_depth': 4, 'n_estimators': 50}</td>\n",
       "      <td>0.753846</td>\n",
       "      <td>0.753846</td>\n",
       "      <td>0.687500</td>\n",
       "      <td>0.746032</td>\n",
       "      <td>0.698413</td>\n",
       "      <td>0.728125</td>\n",
       "      <td>0.028910</td>\n",
       "      <td>0.763263</td>\n",
       "    </tr>\n",
       "    <tr>\n",
       "      <th>5</th>\n",
       "      <td>{'max_depth': 4, 'n_estimators': 100}</td>\n",
       "      <td>0.738462</td>\n",
       "      <td>0.753846</td>\n",
       "      <td>0.671875</td>\n",
       "      <td>0.714286</td>\n",
       "      <td>0.714286</td>\n",
       "      <td>0.718750</td>\n",
       "      <td>0.027864</td>\n",
       "      <td>0.769492</td>\n",
       "    </tr>\n",
       "    <tr>\n",
       "      <th>6</th>\n",
       "      <td>{'max_depth': 5, 'n_estimators': 10}</td>\n",
       "      <td>0.723077</td>\n",
       "      <td>0.723077</td>\n",
       "      <td>0.656250</td>\n",
       "      <td>0.666667</td>\n",
       "      <td>0.698413</td>\n",
       "      <td>0.693750</td>\n",
       "      <td>0.027917</td>\n",
       "      <td>0.802308</td>\n",
       "    </tr>\n",
       "    <tr>\n",
       "      <th>7</th>\n",
       "      <td>{'max_depth': 5, 'n_estimators': 50}</td>\n",
       "      <td>0.738462</td>\n",
       "      <td>0.738462</td>\n",
       "      <td>0.656250</td>\n",
       "      <td>0.761905</td>\n",
       "      <td>0.714286</td>\n",
       "      <td>0.721875</td>\n",
       "      <td>0.036054</td>\n",
       "      <td>0.811713</td>\n",
       "    </tr>\n",
       "    <tr>\n",
       "      <th>8</th>\n",
       "      <td>{'max_depth': 5, 'n_estimators': 100}</td>\n",
       "      <td>0.738462</td>\n",
       "      <td>0.738462</td>\n",
       "      <td>0.671875</td>\n",
       "      <td>0.714286</td>\n",
       "      <td>0.698413</td>\n",
       "      <td>0.712500</td>\n",
       "      <td>0.025369</td>\n",
       "      <td>0.811707</td>\n",
       "    </tr>\n",
       "    <tr>\n",
       "      <th>9</th>\n",
       "      <td>{'max_depth': 6, 'n_estimators': 10}</td>\n",
       "      <td>0.723077</td>\n",
       "      <td>0.707692</td>\n",
       "      <td>0.656250</td>\n",
       "      <td>0.650794</td>\n",
       "      <td>0.698413</td>\n",
       "      <td>0.687500</td>\n",
       "      <td>0.028704</td>\n",
       "      <td>0.836729</td>\n",
       "    </tr>\n",
       "    <tr>\n",
       "      <th>10</th>\n",
       "      <td>{'max_depth': 6, 'n_estimators': 50}</td>\n",
       "      <td>0.738462</td>\n",
       "      <td>0.723077</td>\n",
       "      <td>0.687500</td>\n",
       "      <td>0.714286</td>\n",
       "      <td>0.698413</td>\n",
       "      <td>0.712500</td>\n",
       "      <td>0.018009</td>\n",
       "      <td>0.855446</td>\n",
       "    </tr>\n",
       "    <tr>\n",
       "      <th>11</th>\n",
       "      <td>{'max_depth': 6, 'n_estimators': 100}</td>\n",
       "      <td>0.738462</td>\n",
       "      <td>0.738462</td>\n",
       "      <td>0.671875</td>\n",
       "      <td>0.761905</td>\n",
       "      <td>0.714286</td>\n",
       "      <td>0.725000</td>\n",
       "      <td>0.030476</td>\n",
       "      <td>0.858580</td>\n",
       "    </tr>\n",
       "    <tr>\n",
       "      <th>12</th>\n",
       "      <td>{'max_depth': 7, 'n_estimators': 10}</td>\n",
       "      <td>0.692308</td>\n",
       "      <td>0.692308</td>\n",
       "      <td>0.687500</td>\n",
       "      <td>0.619048</td>\n",
       "      <td>0.682540</td>\n",
       "      <td>0.675000</td>\n",
       "      <td>0.027937</td>\n",
       "      <td>0.878133</td>\n",
       "    </tr>\n",
       "    <tr>\n",
       "      <th>13</th>\n",
       "      <td>{'max_depth': 7, 'n_estimators': 50}</td>\n",
       "      <td>0.738462</td>\n",
       "      <td>0.723077</td>\n",
       "      <td>0.656250</td>\n",
       "      <td>0.714286</td>\n",
       "      <td>0.682540</td>\n",
       "      <td>0.703125</td>\n",
       "      <td>0.029697</td>\n",
       "      <td>0.891405</td>\n",
       "    </tr>\n",
       "    <tr>\n",
       "      <th>14</th>\n",
       "      <td>{'max_depth': 7, 'n_estimators': 100}</td>\n",
       "      <td>0.753846</td>\n",
       "      <td>0.692308</td>\n",
       "      <td>0.656250</td>\n",
       "      <td>0.746032</td>\n",
       "      <td>0.666667</td>\n",
       "      <td>0.703125</td>\n",
       "      <td>0.040124</td>\n",
       "      <td>0.900005</td>\n",
       "    </tr>\n",
       "    <tr>\n",
       "      <th>15</th>\n",
       "      <td>{'max_depth': 8, 'n_estimators': 10}</td>\n",
       "      <td>0.692308</td>\n",
       "      <td>0.676923</td>\n",
       "      <td>0.656250</td>\n",
       "      <td>0.666667</td>\n",
       "      <td>0.666667</td>\n",
       "      <td>0.671875</td>\n",
       "      <td>0.012227</td>\n",
       "      <td>0.913268</td>\n",
       "    </tr>\n",
       "    <tr>\n",
       "      <th>16</th>\n",
       "      <td>{'max_depth': 8, 'n_estimators': 50}</td>\n",
       "      <td>0.723077</td>\n",
       "      <td>0.707692</td>\n",
       "      <td>0.703125</td>\n",
       "      <td>0.666667</td>\n",
       "      <td>0.666667</td>\n",
       "      <td>0.693750</td>\n",
       "      <td>0.022816</td>\n",
       "      <td>0.929708</td>\n",
       "    </tr>\n",
       "    <tr>\n",
       "      <th>17</th>\n",
       "      <td>{'max_depth': 8, 'n_estimators': 100}</td>\n",
       "      <td>0.707692</td>\n",
       "      <td>0.692308</td>\n",
       "      <td>0.687500</td>\n",
       "      <td>0.666667</td>\n",
       "      <td>0.666667</td>\n",
       "      <td>0.684375</td>\n",
       "      <td>0.015769</td>\n",
       "      <td>0.928921</td>\n",
       "    </tr>\n",
       "    <tr>\n",
       "      <th>18</th>\n",
       "      <td>{'max_depth': 9, 'n_estimators': 10}</td>\n",
       "      <td>0.723077</td>\n",
       "      <td>0.661538</td>\n",
       "      <td>0.687500</td>\n",
       "      <td>0.619048</td>\n",
       "      <td>0.682540</td>\n",
       "      <td>0.675000</td>\n",
       "      <td>0.034134</td>\n",
       "      <td>0.934374</td>\n",
       "    </tr>\n",
       "    <tr>\n",
       "      <th>19</th>\n",
       "      <td>{'max_depth': 9, 'n_estimators': 50}</td>\n",
       "      <td>0.723077</td>\n",
       "      <td>0.707692</td>\n",
       "      <td>0.703125</td>\n",
       "      <td>0.698413</td>\n",
       "      <td>0.666667</td>\n",
       "      <td>0.700000</td>\n",
       "      <td>0.018477</td>\n",
       "      <td>0.957815</td>\n",
       "    </tr>\n",
       "    <tr>\n",
       "      <th>20</th>\n",
       "      <td>{'max_depth': 9, 'n_estimators': 100}</td>\n",
       "      <td>0.753846</td>\n",
       "      <td>0.661538</td>\n",
       "      <td>0.703125</td>\n",
       "      <td>0.666667</td>\n",
       "      <td>0.666667</td>\n",
       "      <td>0.690625</td>\n",
       "      <td>0.035228</td>\n",
       "      <td>0.962536</td>\n",
       "    </tr>\n",
       "    <tr>\n",
       "      <th>21</th>\n",
       "      <td>{'max_depth': 10, 'n_estimators': 10}</td>\n",
       "      <td>0.692308</td>\n",
       "      <td>0.630769</td>\n",
       "      <td>0.656250</td>\n",
       "      <td>0.698413</td>\n",
       "      <td>0.682540</td>\n",
       "      <td>0.671875</td>\n",
       "      <td>0.025256</td>\n",
       "      <td>0.953903</td>\n",
       "    </tr>\n",
       "    <tr>\n",
       "      <th>22</th>\n",
       "      <td>{'max_depth': 10, 'n_estimators': 50}</td>\n",
       "      <td>0.692308</td>\n",
       "      <td>0.753846</td>\n",
       "      <td>0.703125</td>\n",
       "      <td>0.698413</td>\n",
       "      <td>0.666667</td>\n",
       "      <td>0.703125</td>\n",
       "      <td>0.028503</td>\n",
       "      <td>0.977353</td>\n",
       "    </tr>\n",
       "    <tr>\n",
       "      <th>23</th>\n",
       "      <td>{'max_depth': 10, 'n_estimators': 100}</td>\n",
       "      <td>0.707692</td>\n",
       "      <td>0.707692</td>\n",
       "      <td>0.703125</td>\n",
       "      <td>0.730159</td>\n",
       "      <td>0.666667</td>\n",
       "      <td>0.703125</td>\n",
       "      <td>0.020348</td>\n",
       "      <td>0.982834</td>\n",
       "    </tr>\n",
       "    <tr>\n",
       "      <th>24</th>\n",
       "      <td>{'max_depth': 11, 'n_estimators': 10}</td>\n",
       "      <td>0.676923</td>\n",
       "      <td>0.661538</td>\n",
       "      <td>0.687500</td>\n",
       "      <td>0.682540</td>\n",
       "      <td>0.650794</td>\n",
       "      <td>0.671875</td>\n",
       "      <td>0.013623</td>\n",
       "      <td>0.961727</td>\n",
       "    </tr>\n",
       "    <tr>\n",
       "      <th>25</th>\n",
       "      <td>{'max_depth': 11, 'n_estimators': 50}</td>\n",
       "      <td>0.676923</td>\n",
       "      <td>0.676923</td>\n",
       "      <td>0.703125</td>\n",
       "      <td>0.698413</td>\n",
       "      <td>0.682540</td>\n",
       "      <td>0.687500</td>\n",
       "      <td>0.011071</td>\n",
       "      <td>0.988293</td>\n",
       "    </tr>\n",
       "    <tr>\n",
       "      <th>26</th>\n",
       "      <td>{'max_depth': 11, 'n_estimators': 100}</td>\n",
       "      <td>0.723077</td>\n",
       "      <td>0.692308</td>\n",
       "      <td>0.703125</td>\n",
       "      <td>0.714286</td>\n",
       "      <td>0.682540</td>\n",
       "      <td>0.703125</td>\n",
       "      <td>0.014580</td>\n",
       "      <td>0.989853</td>\n",
       "    </tr>\n",
       "    <tr>\n",
       "      <th>27</th>\n",
       "      <td>{'max_depth': 12, 'n_estimators': 10}</td>\n",
       "      <td>0.738462</td>\n",
       "      <td>0.630769</td>\n",
       "      <td>0.687500</td>\n",
       "      <td>0.650794</td>\n",
       "      <td>0.682540</td>\n",
       "      <td>0.678125</td>\n",
       "      <td>0.036925</td>\n",
       "      <td>0.966415</td>\n",
       "    </tr>\n",
       "    <tr>\n",
       "      <th>28</th>\n",
       "      <td>{'max_depth': 12, 'n_estimators': 50}</td>\n",
       "      <td>0.738462</td>\n",
       "      <td>0.692308</td>\n",
       "      <td>0.671875</td>\n",
       "      <td>0.698413</td>\n",
       "      <td>0.682540</td>\n",
       "      <td>0.696875</td>\n",
       "      <td>0.022835</td>\n",
       "      <td>0.989847</td>\n",
       "    </tr>\n",
       "    <tr>\n",
       "      <th>29</th>\n",
       "      <td>{'max_depth': 12, 'n_estimators': 100}</td>\n",
       "      <td>0.753846</td>\n",
       "      <td>0.707692</td>\n",
       "      <td>0.687500</td>\n",
       "      <td>0.682540</td>\n",
       "      <td>0.666667</td>\n",
       "      <td>0.700000</td>\n",
       "      <td>0.030182</td>\n",
       "      <td>0.991409</td>\n",
       "    </tr>\n",
       "    <tr>\n",
       "      <th>30</th>\n",
       "      <td>{'max_depth': 13, 'n_estimators': 10}</td>\n",
       "      <td>0.738462</td>\n",
       "      <td>0.661538</td>\n",
       "      <td>0.687500</td>\n",
       "      <td>0.650794</td>\n",
       "      <td>0.650794</td>\n",
       "      <td>0.678125</td>\n",
       "      <td>0.033273</td>\n",
       "      <td>0.967990</td>\n",
       "    </tr>\n",
       "    <tr>\n",
       "      <th>31</th>\n",
       "      <td>{'max_depth': 13, 'n_estimators': 50}</td>\n",
       "      <td>0.707692</td>\n",
       "      <td>0.692308</td>\n",
       "      <td>0.703125</td>\n",
       "      <td>0.682540</td>\n",
       "      <td>0.682540</td>\n",
       "      <td>0.693750</td>\n",
       "      <td>0.010343</td>\n",
       "      <td>0.990631</td>\n",
       "    </tr>\n",
       "    <tr>\n",
       "      <th>32</th>\n",
       "      <td>{'max_depth': 13, 'n_estimators': 100}</td>\n",
       "      <td>0.753846</td>\n",
       "      <td>0.692308</td>\n",
       "      <td>0.687500</td>\n",
       "      <td>0.698413</td>\n",
       "      <td>0.666667</td>\n",
       "      <td>0.700000</td>\n",
       "      <td>0.029180</td>\n",
       "      <td>0.991409</td>\n",
       "    </tr>\n",
       "    <tr>\n",
       "      <th>33</th>\n",
       "      <td>{'max_depth': 14, 'n_estimators': 10}</td>\n",
       "      <td>0.753846</td>\n",
       "      <td>0.661538</td>\n",
       "      <td>0.687500</td>\n",
       "      <td>0.650794</td>\n",
       "      <td>0.698413</td>\n",
       "      <td>0.690625</td>\n",
       "      <td>0.036193</td>\n",
       "      <td>0.968768</td>\n",
       "    </tr>\n",
       "    <tr>\n",
       "      <th>34</th>\n",
       "      <td>{'max_depth': 14, 'n_estimators': 50}</td>\n",
       "      <td>0.692308</td>\n",
       "      <td>0.692308</td>\n",
       "      <td>0.687500</td>\n",
       "      <td>0.698413</td>\n",
       "      <td>0.682540</td>\n",
       "      <td>0.690625</td>\n",
       "      <td>0.005283</td>\n",
       "      <td>0.989062</td>\n",
       "    </tr>\n",
       "    <tr>\n",
       "      <th>35</th>\n",
       "      <td>{'max_depth': 14, 'n_estimators': 100}</td>\n",
       "      <td>0.753846</td>\n",
       "      <td>0.692308</td>\n",
       "      <td>0.687500</td>\n",
       "      <td>0.682540</td>\n",
       "      <td>0.666667</td>\n",
       "      <td>0.696875</td>\n",
       "      <td>0.030020</td>\n",
       "      <td>0.991409</td>\n",
       "    </tr>\n",
       "  </tbody>\n",
       "</table>\n",
       "</div>"
      ],
      "text/plain": [
       "                                    params  split0_test_score  \\\n",
       "0     {'max_depth': 3, 'n_estimators': 10}           0.707692   \n",
       "1     {'max_depth': 3, 'n_estimators': 50}           0.738462   \n",
       "2    {'max_depth': 3, 'n_estimators': 100}           0.738462   \n",
       "3     {'max_depth': 4, 'n_estimators': 10}           0.723077   \n",
       "4     {'max_depth': 4, 'n_estimators': 50}           0.753846   \n",
       "5    {'max_depth': 4, 'n_estimators': 100}           0.738462   \n",
       "6     {'max_depth': 5, 'n_estimators': 10}           0.723077   \n",
       "7     {'max_depth': 5, 'n_estimators': 50}           0.738462   \n",
       "8    {'max_depth': 5, 'n_estimators': 100}           0.738462   \n",
       "9     {'max_depth': 6, 'n_estimators': 10}           0.723077   \n",
       "10    {'max_depth': 6, 'n_estimators': 50}           0.738462   \n",
       "11   {'max_depth': 6, 'n_estimators': 100}           0.738462   \n",
       "12    {'max_depth': 7, 'n_estimators': 10}           0.692308   \n",
       "13    {'max_depth': 7, 'n_estimators': 50}           0.738462   \n",
       "14   {'max_depth': 7, 'n_estimators': 100}           0.753846   \n",
       "15    {'max_depth': 8, 'n_estimators': 10}           0.692308   \n",
       "16    {'max_depth': 8, 'n_estimators': 50}           0.723077   \n",
       "17   {'max_depth': 8, 'n_estimators': 100}           0.707692   \n",
       "18    {'max_depth': 9, 'n_estimators': 10}           0.723077   \n",
       "19    {'max_depth': 9, 'n_estimators': 50}           0.723077   \n",
       "20   {'max_depth': 9, 'n_estimators': 100}           0.753846   \n",
       "21   {'max_depth': 10, 'n_estimators': 10}           0.692308   \n",
       "22   {'max_depth': 10, 'n_estimators': 50}           0.692308   \n",
       "23  {'max_depth': 10, 'n_estimators': 100}           0.707692   \n",
       "24   {'max_depth': 11, 'n_estimators': 10}           0.676923   \n",
       "25   {'max_depth': 11, 'n_estimators': 50}           0.676923   \n",
       "26  {'max_depth': 11, 'n_estimators': 100}           0.723077   \n",
       "27   {'max_depth': 12, 'n_estimators': 10}           0.738462   \n",
       "28   {'max_depth': 12, 'n_estimators': 50}           0.738462   \n",
       "29  {'max_depth': 12, 'n_estimators': 100}           0.753846   \n",
       "30   {'max_depth': 13, 'n_estimators': 10}           0.738462   \n",
       "31   {'max_depth': 13, 'n_estimators': 50}           0.707692   \n",
       "32  {'max_depth': 13, 'n_estimators': 100}           0.753846   \n",
       "33   {'max_depth': 14, 'n_estimators': 10}           0.753846   \n",
       "34   {'max_depth': 14, 'n_estimators': 50}           0.692308   \n",
       "35  {'max_depth': 14, 'n_estimators': 100}           0.753846   \n",
       "\n",
       "    split1_test_score  split2_test_score  split3_test_score  \\\n",
       "0            0.723077           0.656250           0.714286   \n",
       "1            0.738462           0.671875           0.746032   \n",
       "2            0.738462           0.671875           0.730159   \n",
       "3            0.738462           0.687500           0.698413   \n",
       "4            0.753846           0.687500           0.746032   \n",
       "5            0.753846           0.671875           0.714286   \n",
       "6            0.723077           0.656250           0.666667   \n",
       "7            0.738462           0.656250           0.761905   \n",
       "8            0.738462           0.671875           0.714286   \n",
       "9            0.707692           0.656250           0.650794   \n",
       "10           0.723077           0.687500           0.714286   \n",
       "11           0.738462           0.671875           0.761905   \n",
       "12           0.692308           0.687500           0.619048   \n",
       "13           0.723077           0.656250           0.714286   \n",
       "14           0.692308           0.656250           0.746032   \n",
       "15           0.676923           0.656250           0.666667   \n",
       "16           0.707692           0.703125           0.666667   \n",
       "17           0.692308           0.687500           0.666667   \n",
       "18           0.661538           0.687500           0.619048   \n",
       "19           0.707692           0.703125           0.698413   \n",
       "20           0.661538           0.703125           0.666667   \n",
       "21           0.630769           0.656250           0.698413   \n",
       "22           0.753846           0.703125           0.698413   \n",
       "23           0.707692           0.703125           0.730159   \n",
       "24           0.661538           0.687500           0.682540   \n",
       "25           0.676923           0.703125           0.698413   \n",
       "26           0.692308           0.703125           0.714286   \n",
       "27           0.630769           0.687500           0.650794   \n",
       "28           0.692308           0.671875           0.698413   \n",
       "29           0.707692           0.687500           0.682540   \n",
       "30           0.661538           0.687500           0.650794   \n",
       "31           0.692308           0.703125           0.682540   \n",
       "32           0.692308           0.687500           0.698413   \n",
       "33           0.661538           0.687500           0.650794   \n",
       "34           0.692308           0.687500           0.698413   \n",
       "35           0.692308           0.687500           0.682540   \n",
       "\n",
       "    split4_test_score  mean_test_score  std_test_score  mean_train_score  \n",
       "0            0.698413         0.700000        0.023317          0.753101  \n",
       "1            0.714286         0.721875        0.027166          0.742956  \n",
       "2            0.714286         0.718750        0.025037          0.741397  \n",
       "3            0.698413         0.709375        0.018788          0.773416  \n",
       "4            0.698413         0.728125        0.028910          0.763263  \n",
       "5            0.714286         0.718750        0.027864          0.769492  \n",
       "6            0.698413         0.693750        0.027917          0.802308  \n",
       "7            0.714286         0.721875        0.036054          0.811713  \n",
       "8            0.698413         0.712500        0.025369          0.811707  \n",
       "9            0.698413         0.687500        0.028704          0.836729  \n",
       "10           0.698413         0.712500        0.018009          0.855446  \n",
       "11           0.714286         0.725000        0.030476          0.858580  \n",
       "12           0.682540         0.675000        0.027937          0.878133  \n",
       "13           0.682540         0.703125        0.029697          0.891405  \n",
       "14           0.666667         0.703125        0.040124          0.900005  \n",
       "15           0.666667         0.671875        0.012227          0.913268  \n",
       "16           0.666667         0.693750        0.022816          0.929708  \n",
       "17           0.666667         0.684375        0.015769          0.928921  \n",
       "18           0.682540         0.675000        0.034134          0.934374  \n",
       "19           0.666667         0.700000        0.018477          0.957815  \n",
       "20           0.666667         0.690625        0.035228          0.962536  \n",
       "21           0.682540         0.671875        0.025256          0.953903  \n",
       "22           0.666667         0.703125        0.028503          0.977353  \n",
       "23           0.666667         0.703125        0.020348          0.982834  \n",
       "24           0.650794         0.671875        0.013623          0.961727  \n",
       "25           0.682540         0.687500        0.011071          0.988293  \n",
       "26           0.682540         0.703125        0.014580          0.989853  \n",
       "27           0.682540         0.678125        0.036925          0.966415  \n",
       "28           0.682540         0.696875        0.022835          0.989847  \n",
       "29           0.666667         0.700000        0.030182          0.991409  \n",
       "30           0.650794         0.678125        0.033273          0.967990  \n",
       "31           0.682540         0.693750        0.010343          0.990631  \n",
       "32           0.666667         0.700000        0.029180          0.991409  \n",
       "33           0.698413         0.690625        0.036193          0.968768  \n",
       "34           0.682540         0.690625        0.005283          0.989062  \n",
       "35           0.666667         0.696875        0.030020          0.991409  "
      ]
     },
     "execution_count": 31,
     "metadata": {},
     "output_type": "execute_result"
    }
   ],
   "source": [
    "cv_results = pd.DataFrame()\n",
    "cv_results['params'] = gCV.cv_results_['params']\n",
    "cv_results['split0_test_score'] = gCV.cv_results_['split0_test_score']\n",
    "cv_results['split1_test_score'] = gCV.cv_results_['split1_test_score']\n",
    "cv_results['split2_test_score'] = gCV.cv_results_['split2_test_score']\n",
    "cv_results['split3_test_score'] = gCV.cv_results_['split3_test_score']\n",
    "cv_results['split4_test_score'] = gCV.cv_results_['split4_test_score']\n",
    "cv_results['mean_test_score'] = gCV.cv_results_['mean_test_score']\n",
    "cv_results['std_test_score'] = gCV.cv_results_['std_test_score']\n",
    "cv_results['mean_train_score'] = gCV.cv_results_['mean_train_score']\n",
    "\n",
    "cv_results"
   ]
  },
  {
   "cell_type": "code",
   "execution_count": 32,
   "metadata": {},
   "outputs": [
    {
     "data": {
      "image/png": "[encoded data removed]",
      "text/plain": [
       "<Figure size 432x288 with 1 Axes>"
      ]
     },
     "metadata": {
      "needs_background": "light"
     },
     "output_type": "display_data"
    }
   ],
   "source": [
    "fig, ax = plt.subplots()\n",
    "\n",
    "ax.scatter(x=cv_results.index, y = 1-cv_results['mean_test_score'], label='test error')\n",
    "ax.scatter(x=cv_results.index, y = 1-cv_results['mean_train_score'], label='train error')\n",
    "\n",
    "plt.title(\"Performance of GridSearchCV Models\")\n",
    "plt.xlabel(\"Iteration\")\n",
    "plt.ylabel(\"Error\")\n",
    "ax.legend()\n",
    "\n",
    "plt.show()"
   ]
  },
  {
   "cell_type": "code",
   "execution_count": 33,
   "metadata": {},
   "outputs": [
    {
     "data": {
      "text/plain": [
       "4"
      ]
     },
     "execution_count": 33,
     "metadata": {},
     "output_type": "execute_result"
    }
   ],
   "source": [
    "gCV.best_index_"
   ]
  },
  {
   "cell_type": "code",
   "execution_count": 34,
   "metadata": {},
   "outputs": [
    {
     "data": {
      "text/plain": [
       "{'max_depth': 4, 'n_estimators': 50}"
      ]
     },
     "execution_count": 34,
     "metadata": {},
     "output_type": "execute_result"
    }
   ],
   "source": [
    "gCV.best_params_"
   ]
  },
  {
   "cell_type": "code",
   "execution_count": 35,
   "metadata": {},
   "outputs": [
    {
     "data": {
      "text/plain": [
       "0.728125"
      ]
     },
     "execution_count": 35,
     "metadata": {},
     "output_type": "execute_result"
    }
   ],
   "source": [
    "gCV.best_score_"
   ]
  },
  {
   "cell_type": "markdown",
   "metadata": {},
   "source": [
    "## Part 5: Final Model Evaluation"
   ]
  },
  {
   "cell_type": "markdown",
   "metadata": {},
   "source": [
    "#### Let's build our final RF model with the best parameters from our Grid Search. We will train this over all the data since this is our final model that will \"go into production\""
   ]
  },
  {
   "cell_type": "code",
   "execution_count": 36,
   "metadata": {},
   "outputs": [
    {
     "data": {
      "text/plain": [
       "RandomForestClassifier(bootstrap=True, class_weight=None, criterion='gini',\n",
       "                       max_depth=4, max_features='auto', max_leaf_nodes=None,\n",
       "                       min_impurity_decrease=0.0, min_impurity_split=None,\n",
       "                       min_samples_leaf=1, min_samples_split=2,\n",
       "                       min_weight_fraction_leaf=0.0, n_estimators=50,\n",
       "                       n_jobs=None, oob_score=False, random_state=10, verbose=0,\n",
       "                       warm_start=False)"
      ]
     },
     "execution_count": 36,
     "metadata": {},
     "output_type": "execute_result"
    }
   ],
   "source": [
    "## import - already done\n",
    "\n",
    "## instantiate \n",
    "rf_final = RandomForestClassifier(max_depth = gCV.best_params_['max_depth'], \n",
    "                                  n_estimators = gCV.best_params_['n_estimators'], \n",
    "                                  random_state = 10)\n",
    "\n",
    "## train/fit\n",
    "rf_final.fit(features, labels)"
   ]
  },
  {
   "cell_type": "markdown",
   "metadata": {},
   "source": [
    "#### Here are our final parameters. "
   ]
  },
  {
   "cell_type": "code",
   "execution_count": 37,
   "metadata": {},
   "outputs": [
    {
     "data": {
      "text/plain": [
       "{'bootstrap': True,\n",
       " 'class_weight': None,\n",
       " 'criterion': 'gini',\n",
       " 'max_depth': 4,\n",
       " 'max_features': 'auto',\n",
       " 'max_leaf_nodes': None,\n",
       " 'min_impurity_decrease': 0.0,\n",
       " 'min_impurity_split': None,\n",
       " 'min_samples_leaf': 1,\n",
       " 'min_samples_split': 2,\n",
       " 'min_weight_fraction_leaf': 0.0,\n",
       " 'n_estimators': 50,\n",
       " 'n_jobs': None,\n",
       " 'oob_score': False,\n",
       " 'random_state': 10,\n",
       " 'verbose': 0,\n",
       " 'warm_start': False}"
      ]
     },
     "execution_count": 37,
     "metadata": {},
     "output_type": "execute_result"
    }
   ],
   "source": [
    "rf_final.get_params()"
   ]
  },
  {
   "cell_type": "markdown",
   "metadata": {},
   "source": [
    "#### How important are each of our features in this model? We can analyze this through *Feature Importance*"
   ]
  },
  {
   "cell_type": "code",
   "execution_count": 38,
   "metadata": {},
   "outputs": [
    {
     "name": "stdout",
     "output_type": "stream",
     "text": [
      "Variable: undergrad_gpa            Importance: 0.41\n",
      "Variable: gre_score                Importance: 0.35\n",
      "Variable: undergrad_school_rank     Importance: 0.24\n"
     ]
    }
   ],
   "source": [
    "# Get numerical feature importances\n",
    "importances = list(rf_final.feature_importances_)\n",
    "\n",
    "# List of tuples with variable and importance\n",
    "feature_importances = [(feature, round(importance, 2)) for feature, importance in zip(feature_names, importances)]\n",
    "\n",
    "# Sort the feature importances by most important first\n",
    "feature_importances = sorted(feature_importances, key = lambda x: x[1], reverse = True)\n",
    "\n",
    "# Print out the feature and importances \n",
    "[print('Variable: {:20}     Importance: {}'.format(*pair)) for pair in feature_importances];"
   ]
  },
  {
   "cell_type": "markdown",
   "metadata": {},
   "source": [
    "It looks like the candidate's Undergraduate GPA makes up about 50% of the decision on whether they will be admitted or not, and Undergraduate School Rank is the least important factor in making an admission decision. <br>\n",
    "Does this make sense? It is always improtant to look at your model output and determine if it logically matches the context of the problem."
   ]
  },
  {
   "cell_type": "markdown",
   "metadata": {},
   "source": [
    "## Part 6: Predicting Admissions"
   ]
  },
  {
   "cell_type": "code",
   "execution_count": null,
   "metadata": {},
   "outputs": [],
   "source": [
    "gpa = float(input(\"Undergrad GPA (0.0 - 4.0)\"))\n",
    "gre = int(input(\"GRE Score (Max 800)\"))\n",
    "rank = int(input(\"Undergrad School Rank (1 - 4)\"))\n",
    "\n",
    "\n",
    "inp = np.array([gre, gpa, rank]).reshape(1,3)\n",
    "prediction = rf_final.predict(inp)\n",
    "\n",
    "print('\\n')\n",
    "print(\"Prediction:\")\n",
    "if prediction == 0:\n",
    "    print(\"Not Admitted\")\n",
    "elif prediction == 1:\n",
    "    print('Admitted')"
   ]
  },
  {
   "cell_type": "markdown",
   "metadata": {},
   "source": [
    "<br><br>"
   ]
  },
  {
   "cell_type": "markdown",
   "metadata": {},
   "source": [
    "## Resources "
   ]
  },
  {
   "cell_type": "markdown",
   "metadata": {},
   "source": [
    "### Introductory Topics ###\n",
    "\n",
    "*Learning Data Science* <br>\n",
    "https://towardsdatascience.com/how-to-learn-data-science-if-youre-broke-7ecc408b53c7 <br>\n",
    "https://www.class-central.com/subject/data-science <br>\n",
    "\n",
    "*Jupyter* <br>\n",
    "https://jupyter-notebook-beginner-guide.readthedocs.io/en/latest/what_is_jupyter.html\n",
    "\n",
    "*Pandas* <br>\n",
    "https://www.datacamp.com/community/tutorials/pandas-tutorial-dataframe-python\n",
    "\n",
    "\n",
    "### Deep Dive Topics ###\n",
    "\n",
    "*Information Gain and Entropy* <br>\n",
    "https://www.saedsayad.com/decision_tree.htm <br>\n",
    "\n",
    "*Ensemble Models - The Power of Crowds and Aggregated Predictions* <br>\n",
    "https://www.npr.org/sections/money/2015/08/07/429720443/17-205-people-guessed-the-weight-of-a-cow-heres-how-they-did <br>\n",
    "\n",
    "\n",
    "*Accuracy, Precision, Recall, F1* <br>\n",
    "https://towardsdatascience.com/precision-vs-recall-386cf9f89488 <br>\n",
    "https://towardsdatascience.com/beyond-accuracy-precision-and-recall-3da06bea9f6c <br>\n",
    "\n",
    "*Random Forest - Feature Information* <br>\n",
    "http://explained.ai/rf-importance/index.html <br>\n",
    "http://www.scikit-yb.org/en/latest/api/features/importances.html <br>\n",
    "\n",
    "*Grid Search* <br>\n",
    "https://www.quora.com/Machine-Learning-How-does-grid-search-work <br>\n",
    "\n",
    "\n",
    "### General ####\n",
    "\n",
    "*Good Reads* <br>\n",
    "https://towardsdatascience.com/train-test-split-and-cross-validation-in-python-80b61beca4b6 <br>\n",
    "https://medium.com/machine-learning-for-humans/why-machine-learning-matters-6164faf1df12 <br>\n",
    "https://medium.com/@williamkoehrsen/random-forest-simple-explanation-377895a60d2d <br>\n",
    "https://towardsdatascience.com/random-forest-in-python-24d0893d51c0 <br>\n",
    "https://github.com/WillKoehrsen/Data-Analysis/tree/master/random_forest_explained <br>\n",
    "https://towardsdatascience.com/hyperparameter-tuning-the-random-forest-in-python-using-scikit-learn-28d2aa77dd74"
   ]
  }
 ],
 "metadata": {
  "kernelspec": {
   "display_name": "Python 3",
   "language": "python",
   "name": "python3"
  },
  "language_info": {
   "codemirror_mode": {
    "name": "ipython",
    "version": 3
   },
   "file_extension": ".py",
   "mimetype": "text/x-python",
   "name": "python",
   "nbconvert_exporter": "python",
   "pygments_lexer": "ipython3",
   "version": "3.7.3"
  }
 },
 "nbformat": 4,
 "nbformat_minor": 2
}
